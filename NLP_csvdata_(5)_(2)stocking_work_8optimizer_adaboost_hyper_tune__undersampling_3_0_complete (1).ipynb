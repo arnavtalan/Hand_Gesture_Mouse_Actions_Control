{
  "cells": [
    {
      "cell_type": "code",
      "execution_count": null,
      "metadata": {
        "id": "ft6w7MBPa-mS"
      },
      "outputs": [],
      "source": [
        "#!pip install tensorflow_text\n",
        "#!pip install nlpaug\n",
        "#!pip install tensorflow-addons\n",
        "#!pip install transformers\n"
      ]
    },
    {
      "cell_type": "code",
      "execution_count": null,
      "metadata": {
        "id": "ZLJ9FpjAV6zy"
      },
      "outputs": [],
      "source": [
        "import pandas as pd\n",
        "import numpy as np\n",
        "import tensorflow as tf\n",
        "from sklearn import preprocessing\n",
        "from sklearn.model_selection import train_test_split\n",
        "from sklearn.preprocessing import LabelEncoder\n",
        "import tensorflow_hub as hub\n",
        "import tensorflow_text as text\n",
        "from sklearn.metrics import classification_report\n",
        "from imblearn.under_sampling import RandomUnderSampler\n",
        "import nlpaug.augmenter.word as naw\n",
        "import re\n",
        "from sklearn.model_selection import GridSearchCV\n",
        "from sklearn.ensemble import GradientBoostingClassifier\n",
        "tf.keras.mixed_precision.set_global_policy('mixed_float16')\n",
        "from tensorflow.keras.layers import LSTM, Dense\n"
      ]
    },
    {
      "cell_type": "code",
      "execution_count": null,
      "metadata": {
        "id": "G42kj34fbLsa"
      },
      "outputs": [],
      "source": [
        "ds = pd.read_csv('/content/train_output - train_output(1).csv')"
      ]
    },
    {
      "cell_type": "code",
      "execution_count": null,
      "metadata": {
        "id": "0jZ3NzTolqDG"
      },
      "outputs": [],
      "source": [
        "def preprocess_text(text):\n",
        "    text = re.sub(r'\\n', ' ', text)\n",
        "    return text\n",
        "\n",
        "ds['Text'] = ds['Text'].apply(preprocess_text)"
      ]
    },
    {
      "cell_type": "code",
      "execution_count": null,
      "metadata": {
        "colab": {
          "base_uri": "https://localhost:8080/",
          "height": 423
        },
        "id": "hZEt6GRsbOiP",
        "outputId": "d8af5550-aa6a-45d2-fc63-9979e22bd673"
      },
      "outputs": [
        {
          "data": {
            "text/html": [
              "\n",
              "\n",
              "  <div id=\"df-980fa8b1-f6a0-470e-a042-68136f372783\">\n",
              "    <div class=\"colab-df-container\">\n",
              "      <div>\n",
              "<style scoped>\n",
              "    .dataframe tbody tr th:only-of-type {\n",
              "        vertical-align: middle;\n",
              "    }\n",
              "\n",
              "    .dataframe tbody tr th {\n",
              "        vertical-align: top;\n",
              "    }\n",
              "\n",
              "    .dataframe thead th {\n",
              "        text-align: right;\n",
              "    }\n",
              "</style>\n",
              "<table border=\"1\" class=\"dataframe\">\n",
              "  <thead>\n",
              "    <tr style=\"text-align: right;\">\n",
              "      <th></th>\n",
              "      <th>Text</th>\n",
              "      <th>Label</th>\n",
              "    </tr>\n",
              "  </thead>\n",
              "  <tbody>\n",
              "    <tr>\n",
              "      <th>0</th>\n",
              "      <td>IN THE HIGH COURT OF KARNATAKA,         ...</td>\n",
              "      <td>PREAMBLE</td>\n",
              "    </tr>\n",
              "    <tr>\n",
              "      <th>1</th>\n",
              "      <td>BEFORE  THE HON'BLE MR.JUSTICE ANAND B...</td>\n",
              "      <td>PREAMBLE</td>\n",
              "    </tr>\n",
              "    <tr>\n",
              "      <th>2</th>\n",
              "      <td>This Criminal Appeal is filed under Section 37...</td>\n",
              "      <td>PREAMBLE</td>\n",
              "    </tr>\n",
              "    <tr>\n",
              "      <th>3</th>\n",
              "      <td>This appeal coming on for hearing thi...</td>\n",
              "      <td>PREAMBLE</td>\n",
              "    </tr>\n",
              "    <tr>\n",
              "      <th>4</th>\n",
              "      <td>Heard the learned Counsel for the appe...</td>\n",
              "      <td>NONE</td>\n",
              "    </tr>\n",
              "    <tr>\n",
              "      <th>...</th>\n",
              "      <td>...</td>\n",
              "      <td>...</td>\n",
              "    </tr>\n",
              "    <tr>\n",
              "      <th>28981</th>\n",
              "      <td>So Section 132 of the Evidence Act sufficien...</td>\n",
              "      <td>RATIO</td>\n",
              "    </tr>\n",
              "    <tr>\n",
              "      <th>28982</th>\n",
              "      <td>For the reasons aforesaid, the appeal is all...</td>\n",
              "      <td>RPC</td>\n",
              "    </tr>\n",
              "    <tr>\n",
              "      <th>28983</th>\n",
              "      <td>The judgment and order dated April 27, 1987 pa...</td>\n",
              "      <td>RPC</td>\n",
              "    </tr>\n",
              "    <tr>\n",
              "      <th>28984</th>\n",
              "      <td>R.S.S.</td>\n",
              "      <td>NONE</td>\n",
              "    </tr>\n",
              "    <tr>\n",
              "      <th>28985</th>\n",
              "      <td>Appeal allowed.</td>\n",
              "      <td>RPC</td>\n",
              "    </tr>\n",
              "  </tbody>\n",
              "</table>\n",
              "<p>28986 rows × 2 columns</p>\n",
              "</div>\n",
              "      <button class=\"colab-df-convert\" onclick=\"convertToInteractive('df-980fa8b1-f6a0-470e-a042-68136f372783')\"\n",
              "              title=\"Convert this dataframe to an interactive table.\"\n",
              "              style=\"display:none;\">\n",
              "\n",
              "  <svg xmlns=\"http://www.w3.org/2000/svg\" height=\"24px\"viewBox=\"0 0 24 24\"\n",
              "       width=\"24px\">\n",
              "    <path d=\"M0 0h24v24H0V0z\" fill=\"none\"/>\n",
              "    <path d=\"M18.56 5.44l.94 2.06.94-2.06 2.06-.94-2.06-.94-.94-2.06-.94 2.06-2.06.94zm-11 1L8.5 8.5l.94-2.06 2.06-.94-2.06-.94L8.5 2.5l-.94 2.06-2.06.94zm10 10l.94 2.06.94-2.06 2.06-.94-2.06-.94-.94-2.06-.94 2.06-2.06.94z\"/><path d=\"M17.41 7.96l-1.37-1.37c-.4-.4-.92-.59-1.43-.59-.52 0-1.04.2-1.43.59L10.3 9.45l-7.72 7.72c-.78.78-.78 2.05 0 2.83L4 21.41c.39.39.9.59 1.41.59.51 0 1.02-.2 1.41-.59l7.78-7.78 2.81-2.81c.8-.78.8-2.07 0-2.86zM5.41 20L4 18.59l7.72-7.72 1.47 1.35L5.41 20z\"/>\n",
              "  </svg>\n",
              "      </button>\n",
              "\n",
              "\n",
              "\n",
              "    <div id=\"df-edec8bf4-2d5e-4c4c-84c1-4cee10df0d96\">\n",
              "      <button class=\"colab-df-quickchart\" onclick=\"quickchart('df-edec8bf4-2d5e-4c4c-84c1-4cee10df0d96')\"\n",
              "              title=\"Suggest charts.\"\n",
              "              style=\"display:none;\">\n",
              "\n",
              "<svg xmlns=\"http://www.w3.org/2000/svg\" height=\"24px\"viewBox=\"0 0 24 24\"\n",
              "     width=\"24px\">\n",
              "    <g>\n",
              "        <path d=\"M19 3H5c-1.1 0-2 .9-2 2v14c0 1.1.9 2 2 2h14c1.1 0 2-.9 2-2V5c0-1.1-.9-2-2-2zM9 17H7v-7h2v7zm4 0h-2V7h2v10zm4 0h-2v-4h2v4z\"/>\n",
              "    </g>\n",
              "</svg>\n",
              "      </button>\n",
              "    </div>\n",
              "\n",
              "<style>\n",
              "  .colab-df-quickchart {\n",
              "    background-color: #E8F0FE;\n",
              "    border: none;\n",
              "    border-radius: 50%;\n",
              "    cursor: pointer;\n",
              "    display: none;\n",
              "    fill: #1967D2;\n",
              "    height: 32px;\n",
              "    padding: 0 0 0 0;\n",
              "    width: 32px;\n",
              "  }\n",
              "\n",
              "  .colab-df-quickchart:hover {\n",
              "    background-color: #E2EBFA;\n",
              "    box-shadow: 0px 1px 2px rgba(60, 64, 67, 0.3), 0px 1px 3px 1px rgba(60, 64, 67, 0.15);\n",
              "    fill: #174EA6;\n",
              "  }\n",
              "\n",
              "  [theme=dark] .colab-df-quickchart {\n",
              "    background-color: #3B4455;\n",
              "    fill: #D2E3FC;\n",
              "  }\n",
              "\n",
              "  [theme=dark] .colab-df-quickchart:hover {\n",
              "    background-color: #434B5C;\n",
              "    box-shadow: 0px 1px 3px 1px rgba(0, 0, 0, 0.15);\n",
              "    filter: drop-shadow(0px 1px 2px rgba(0, 0, 0, 0.3));\n",
              "    fill: #FFFFFF;\n",
              "  }\n",
              "</style>\n",
              "\n",
              "    <script>\n",
              "      async function quickchart(key) {\n",
              "        const containerElement = document.querySelector('#' + key);\n",
              "        const charts = await google.colab.kernel.invokeFunction(\n",
              "            'suggestCharts', [key], {});\n",
              "      }\n",
              "    </script>\n",
              "\n",
              "      <script>\n",
              "\n",
              "function displayQuickchartButton(domScope) {\n",
              "  let quickchartButtonEl =\n",
              "    domScope.querySelector('#df-edec8bf4-2d5e-4c4c-84c1-4cee10df0d96 button.colab-df-quickchart');\n",
              "  quickchartButtonEl.style.display =\n",
              "    google.colab.kernel.accessAllowed ? 'block' : 'none';\n",
              "}\n",
              "\n",
              "        displayQuickchartButton(document);\n",
              "      </script>\n",
              "      <style>\n",
              "    .colab-df-container {\n",
              "      display:flex;\n",
              "      flex-wrap:wrap;\n",
              "      gap: 12px;\n",
              "    }\n",
              "\n",
              "    .colab-df-convert {\n",
              "      background-color: #E8F0FE;\n",
              "      border: none;\n",
              "      border-radius: 50%;\n",
              "      cursor: pointer;\n",
              "      display: none;\n",
              "      fill: #1967D2;\n",
              "      height: 32px;\n",
              "      padding: 0 0 0 0;\n",
              "      width: 32px;\n",
              "    }\n",
              "\n",
              "    .colab-df-convert:hover {\n",
              "      background-color: #E2EBFA;\n",
              "      box-shadow: 0px 1px 2px rgba(60, 64, 67, 0.3), 0px 1px 3px 1px rgba(60, 64, 67, 0.15);\n",
              "      fill: #174EA6;\n",
              "    }\n",
              "\n",
              "    [theme=dark] .colab-df-convert {\n",
              "      background-color: #3B4455;\n",
              "      fill: #D2E3FC;\n",
              "    }\n",
              "\n",
              "    [theme=dark] .colab-df-convert:hover {\n",
              "      background-color: #434B5C;\n",
              "      box-shadow: 0px 1px 3px 1px rgba(0, 0, 0, 0.15);\n",
              "      filter: drop-shadow(0px 1px 2px rgba(0, 0, 0, 0.3));\n",
              "      fill: #FFFFFF;\n",
              "    }\n",
              "  </style>\n",
              "\n",
              "      <script>\n",
              "        const buttonEl =\n",
              "          document.querySelector('#df-980fa8b1-f6a0-470e-a042-68136f372783 button.colab-df-convert');\n",
              "        buttonEl.style.display =\n",
              "          google.colab.kernel.accessAllowed ? 'block' : 'none';\n",
              "\n",
              "        async function convertToInteractive(key) {\n",
              "          const element = document.querySelector('#df-980fa8b1-f6a0-470e-a042-68136f372783');\n",
              "          const dataTable =\n",
              "            await google.colab.kernel.invokeFunction('convertToInteractive',\n",
              "                                                     [key], {});\n",
              "          if (!dataTable) return;\n",
              "\n",
              "          const docLinkHtml = 'Like what you see? Visit the ' +\n",
              "            '<a target=\"_blank\" href=https://colab.research.google.com/notebooks/data_table.ipynb>data table notebook</a>'\n",
              "            + ' to learn more about interactive tables.';\n",
              "          element.innerHTML = '';\n",
              "          dataTable['output_type'] = 'display_data';\n",
              "          await google.colab.output.renderOutput(dataTable, element);\n",
              "          const docLink = document.createElement('div');\n",
              "          docLink.innerHTML = docLinkHtml;\n",
              "          element.appendChild(docLink);\n",
              "        }\n",
              "      </script>\n",
              "    </div>\n",
              "  </div>\n"
            ],
            "text/plain": [
              "                                                    Text     Label\n",
              "0            IN THE HIGH COURT OF KARNATAKA,         ...  PREAMBLE\n",
              "1              BEFORE  THE HON'BLE MR.JUSTICE ANAND B...  PREAMBLE\n",
              "2      This Criminal Appeal is filed under Section 37...  PREAMBLE\n",
              "3               This appeal coming on for hearing thi...  PREAMBLE\n",
              "4              Heard the learned Counsel for the appe...      NONE\n",
              "...                                                  ...       ...\n",
              "28981    So Section 132 of the Evidence Act sufficien...     RATIO\n",
              "28982    For the reasons aforesaid, the appeal is all...       RPC\n",
              "28983  The judgment and order dated April 27, 1987 pa...       RPC\n",
              "28984                                             R.S.S.      NONE\n",
              "28985                                    Appeal allowed.       RPC\n",
              "\n",
              "[28986 rows x 2 columns]"
            ]
          },
          "execution_count": 5,
          "metadata": {},
          "output_type": "execute_result"
        }
      ],
      "source": [
        "ds.dropna(axis=0, how='any')"
      ]
    },
    {
      "cell_type": "code",
      "execution_count": null,
      "metadata": {
        "id": "2Sp4XC9bctwn"
      },
      "outputs": [],
      "source": [
        "new_ds=ds.loc[ds['Label'].isin(['FAC','ARG_RESPONDENT', 'ARG_PETITIONER', 'ISSUE'])]\n",
        "#new_ds = ds"
      ]
    },
    {
      "cell_type": "code",
      "execution_count": null,
      "metadata": {
        "colab": {
          "base_uri": "https://localhost:8080/"
        },
        "id": "J4CVvqlbcxnG",
        "outputId": "8e71cf7f-dd3f-4039-b9e6-ffad104802ba"
      },
      "outputs": [
        {
          "name": "stdout",
          "output_type": "stream",
          "text": [
            "Unique classes: ['FAC' 'ARG_RESPONDENT' 'ARG_PETITIONER' 'ISSUE']\n"
          ]
        }
      ],
      "source": [
        "unique_classes = new_ds['Label'].unique()\n",
        "print(\"Unique classes:\", unique_classes)"
      ]
    },
    {
      "cell_type": "code",
      "execution_count": null,
      "metadata": {
        "colab": {
          "base_uri": "https://localhost:8080/"
        },
        "id": "vm6_YFGUUg4k",
        "outputId": "967f60e3-93d5-47ae-9aae-dbc17e2cc67e"
      },
      "outputs": [
        {
          "name": "stderr",
          "output_type": "stream",
          "text": [
            "<ipython-input-8-0f393c6c280d>:1: SettingWithCopyWarning: \n",
            "A value is trying to be set on a copy of a slice from a DataFrame.\n",
            "Try using .loc[row_indexer,col_indexer] = value instead\n",
            "\n",
            "See the caveats in the documentation: https://pandas.pydata.org/pandas-docs/stable/user_guide/indexing.html#returning-a-view-versus-a-copy\n",
            "  new_ds[[\"Label\"]] = new_ds[[\"Label\"]].apply(LabelEncoder().fit_transform)\n"
          ]
        }
      ],
      "source": [
        "new_ds[[\"Label\"]] = new_ds[[\"Label\"]].apply(LabelEncoder().fit_transform)"
      ]
    },
    {
      "cell_type": "code",
      "execution_count": null,
      "metadata": {
        "colab": {
          "base_uri": "https://localhost:8080/",
          "height": 35
        },
        "id": "Ar3VJxXNc4rh",
        "outputId": "9c90ead4-0629-4492-96be-9e0649dc099a"
      },
      "outputs": [
        {
          "data": {
            "application/vnd.google.colaboratory.intrinsic+json": {
              "type": "string"
            },
            "text/plain": [
              "'name = \"new_ds.csv\"\\nnew_ds.to_csv(name, index=False)'"
            ]
          },
          "execution_count": 9,
          "metadata": {},
          "output_type": "execute_result"
        }
      ],
      "source": [
        "new_ds\n",
        "'''name = \"new_ds.csv\"\n",
        "new_ds.to_csv(name, index=False)'''"
      ]
    },
    {
      "cell_type": "code",
      "execution_count": null,
      "metadata": {
        "id": "OkCPItnoc_qg"
      },
      "outputs": [],
      "source": [
        "X = new_ds['Text']\n",
        "y = new_ds['Label']"
      ]
    },
    {
      "cell_type": "code",
      "execution_count": null,
      "metadata": {
        "id": "miqvh5ckmZ45"
      },
      "outputs": [],
      "source": [
        "label_encoder = LabelEncoder()\n",
        "y = label_encoder.fit_transform(y)"
      ]
    },
    {
      "cell_type": "code",
      "execution_count": null,
      "metadata": {
        "id": "E_7o2QYtdFVm"
      },
      "outputs": [],
      "source": [
        "X_train, X_test, y_train, y_test = train_test_split(X, y, test_size=0.33, random_state=47)\n"
      ]
    },
    {
      "cell_type": "code",
      "execution_count": null,
      "metadata": {
        "id": "X6GkjEp2bCMr"
      },
      "outputs": [],
      "source": [
        "rus = RandomUnderSampler(random_state=42)\n",
        "X_train_resampled, y_train_resampled = rus.fit_resample(X_train.to_frame(), y_train)\n",
        "X_train_resampled = X_train_resampled.squeeze()\n",
        "y_train_resampled = y_train_resampled.squeeze()\n",
        "\n",
        "X_test_resampled, y_test_resampled = rus.fit_resample(X_test.to_frame(), y_test)\n",
        "X_test_resampled = X_test_resampled.squeeze()\n",
        "y_test_resampled = y_test_resampled.squeeze()\n"
      ]
    },
    {
      "cell_type": "code",
      "execution_count": null,
      "metadata": {
        "id": "rLh-CSdZ98ZC"
      },
      "outputs": [],
      "source": [
        "\n",
        "X_train_tensor = tf.convert_to_tensor(X_train_resampled, dtype=tf.string)\n",
        "y_train_tensor = tf.convert_to_tensor(tf.keras.utils.to_categorical(y_train_resampled, num_classes=13), dtype=tf.float32)\n",
        "\n",
        "X_test_tensor = tf.convert_to_tensor(X_test_resampled, dtype=tf.string)\n",
        "y_test_tensor = tf.convert_to_tensor(tf.keras.utils.to_categorical(y_test_resampled, num_classes=13), dtype=tf.float32)"
      ]
    },
    {
      "cell_type": "code",
      "execution_count": null,
      "metadata": {
        "id": "n97kwVsbdMfE"
      },
      "outputs": [],
      "source": [
        "bert_preprocess = hub.KerasLayer(\"https://tfhub.dev/tensorflow/bert_en_uncased_preprocess/3\")\n",
        "bert_encoder = hub.KerasLayer(\"https://tfhub.dev/tensorflow/bert_en_uncased_L-12_H-768_A-12/4\")"
      ]
    },
    {
      "cell_type": "code",
      "execution_count": null,
      "metadata": {
        "colab": {
          "base_uri": "https://localhost:8080/"
        },
        "id": "9_zR1xrp38Je",
        "outputId": "a6c40747-417e-4f99-c1ac-973a281dd3ad"
      },
      "outputs": [
        {
          "data": {
            "text/plain": [
              "<KerasTensor: shape=(None, 768) dtype=float32 (created by layer 'keras_layer_1')>"
            ]
          },
          "execution_count": 16,
          "metadata": {},
          "output_type": "execute_result"
        }
      ],
      "source": [
        "text_input = tf.keras.layers.Input(shape=(), dtype=tf.string, name='text')\n",
        "preprocessed_text = bert_preprocess(text_input)\n",
        "outputs = bert_encoder(preprocessed_text)\n",
        "outputs['pooled_output']"
      ]
    },
    {
      "cell_type": "code",
      "execution_count": null,
      "metadata": {
        "id": "9v_3gschfUAr"
      },
      "outputs": [],
      "source": [
        "X_train_bert_embed = bert_preprocess(X_train_resampled)\n",
        "X_train_bert_embed = bert_encoder(X_train_bert_embed)[\"pooled_output\"]\n",
        "\n",
        "X_test_bert_embed = bert_preprocess(X_test_resampled)\n",
        "X_test_bert_embed = bert_encoder(X_test_bert_embed)[\"pooled_output\"]"
      ]
    },
    {
      "cell_type": "markdown",
      "metadata": {},
      "source": [
        "embedding_dim = X_train_bert_embed.shape[1]\n",
        "\n",
        "# LSTM model\n",
        "model = tf.keras.Sequential([\n",
        "    LSTM(64, input_shape=(1, embedding_dim), return_sequences=True),\n",
        "    tf.keras.layers.Dropout(0.5),\n",
        "    LSTM(32),\n",
        "    tf.keras.layers.Dropout(0.3),\n",
        "    Dense(13, activation='softmax')\n",
        "])"
      ]
    },
    {
      "cell_type": "code",
      "execution_count": null,
      "metadata": {
        "id": "g2_WwXTz4HLI"
      },
      "outputs": [],
      "source": [
        "#l = tf.keras.layers.Dropout(0.1, name=\"dropout\")(outputs['pooled_output'])\n",
        "\n",
        "'''l = tf.keras.layers.Dense(128, activation='gelu', name=\"hidden\")(l)\n",
        "l = tf.keras.layers.Dropout(0.5, name=\"dropout_2\")(l)\n",
        "\n",
        "l = tf.keras.layers.Dense(64, activation='gelu', name=\"hidden_2\")(l)\n",
        "l = tf.keras.layers.Dropout(0.1, name=\"dropout_3\")(l)\n",
        "\n",
        "l = tf.keras.layers.Dense(32, activation='gelu', name=\"hidden_3\")(l)\n",
        "l = tf.keras.layers.Dropout(0.1, name=\"dropout_4\")(l)\n",
        "\n",
        "l = tf.keras.layers.Dense(16, activation='gelu', name=\"hidden_4\")(l)\n",
        "l = tf.keras.layers.Dropout(0.1, name=\"dropout_5\")(l)'''\n",
        "\n",
        "#output_layer = tf.keras.layers.Dense(13, activation='softmax', name=\"output\")(l)"
      ]
    },
    {
      "cell_type": "code",
      "execution_count": null,
      "metadata": {
        "id": "MciiM7re4Nvr"
      },
      "outputs": [],
      "source": [
        "#model = tf.keras.Model(inputs=[text_input], outputs = [output_layer])"
      ]
    },
    {
      "cell_type": "code",
      "execution_count": null,
      "metadata": {
        "colab": {
          "base_uri": "https://localhost:8080/"
        },
        "id": "h5kldC1X4R8L",
        "outputId": "d4a153a5-deae-4522-f342-4c067c2e3e80"
      },
      "outputs": [
        {
          "name": "stdout",
          "output_type": "stream",
          "text": [
            "Model: \"model\"\n",
            "__________________________________________________________________________________________________\n",
            " Layer (type)                Output Shape                 Param #   Connected to                  \n",
            "==================================================================================================\n",
            " text (InputLayer)           [(None,)]                    0         []                            \n",
            "                                                                                                  \n",
            " keras_layer (KerasLayer)    {'input_mask': (None, 128)   0         ['text[0][0]']                \n",
            "                             , 'input_word_ids': (None,                                           \n",
            "                              128),                                                               \n",
            "                              'input_type_ids': (None,                                            \n",
            "                             128)}                                                                \n",
            "                                                                                                  \n",
            " keras_layer_1 (KerasLayer)  {'default': (None, 768),     1094822   ['keras_layer[0][0]',         \n",
            "                              'encoder_outputs': [(None   41         'keras_layer[0][1]',         \n",
            "                             , 128, 768),                            'keras_layer[0][2]']         \n",
            "                              (None, 128, 768),                                                   \n",
            "                              (None, 128, 768),                                                   \n",
            "                              (None, 128, 768),                                                   \n",
            "                              (None, 128, 768),                                                   \n",
            "                              (None, 128, 768),                                                   \n",
            "                              (None, 128, 768),                                                   \n",
            "                              (None, 128, 768),                                                   \n",
            "                              (None, 128, 768),                                                   \n",
            "                              (None, 128, 768),                                                   \n",
            "                              (None, 128, 768),                                                   \n",
            "                              (None, 128, 768)],                                                  \n",
            "                              'pooled_output': (None, 7                                           \n",
            "                             68),                                                                 \n",
            "                              'sequence_output': (None,                                           \n",
            "                              128, 768)}                                                          \n",
            "                                                                                                  \n",
            " dropout (Dropout)           (None, 768)                  0         ['keras_layer_1[0][13]']      \n",
            "                                                                                                  \n",
            " output (Dense)              (None, 13)                   9997      ['dropout[0][0]']             \n",
            "                                                                                                  \n",
            "==================================================================================================\n",
            "Total params: 109492238 (417.68 MB)\n",
            "Trainable params: 9997 (39.05 KB)\n",
            "Non-trainable params: 109482241 (417.64 MB)\n",
            "__________________________________________________________________________________________________\n"
          ]
        }
      ],
      "source": [
        "model.summary()"
      ]
    },
    {
      "cell_type": "code",
      "execution_count": null,
      "metadata": {
        "id": "hWbt-sll4Ur_"
      },
      "outputs": [],
      "source": [
        "METRICS = [tf.keras.metrics.F1Score(\n",
        "    average=None, threshold=None, name='f1_score', dtype=None\n",
        "),\n",
        "    tf.keras.metrics.CategoricalAccuracy(name='accuracy'),\n",
        "    tf.keras.metrics.Precision(name='precision'),\n",
        "    tf.keras.metrics.Recall(name='recall'),\n",
        "    tf.keras.metrics.AUC(name='auc'),\n",
        "]\n",
        "optimizer1 = tf.keras.optimizers.Adafactor(\n",
        "    learning_rate=0.001,\n",
        "    beta_2_decay=-0.8,\n",
        "    epsilon_1=1e-30,\n",
        "    epsilon_2=0.001,\n",
        "    clip_threshold=1.0,\n",
        "    relative_step=True,\n",
        "    weight_decay=None,\n",
        "    clipnorm=None,\n",
        "    clipvalue=None,\n",
        "    global_clipnorm=None,\n",
        "    use_ema=False,\n",
        "    ema_momentum=0.99,\n",
        "    ema_overwrite_frequency=None,\n",
        "    jit_compile=True,\n",
        "    name='Adafactor')\n",
        "optimizer2=tf.keras.optimizers.AdamW(\n",
        "    learning_rate=0.001,\n",
        "    weight_decay=0.004,\n",
        "    beta_1=0.9,\n",
        "    beta_2=0.999,\n",
        "    epsilon=1e-07,\n",
        "    amsgrad=False,\n",
        "    clipnorm=None,\n",
        "    clipvalue=None,\n",
        "    global_clipnorm=None,\n",
        "    use_ema=False,\n",
        "    ema_momentum=0.99,\n",
        "    ema_overwrite_frequency=None,\n",
        "    jit_compile=True,\n",
        "    name='AdamW')\n",
        "optimizer3 = tf.keras.optimizers.Lion(\n",
        "    learning_rate=0.001,\n",
        "    beta_1=0.9,\n",
        "    beta_2=0.99,\n",
        "    weight_decay=None,\n",
        "    clipnorm=None,\n",
        "    clipvalue=None,\n",
        "    global_clipnorm=None,\n",
        "    use_ema=False,\n",
        "    ema_momentum=0.99,\n",
        "    ema_overwrite_frequency=None,\n",
        "    jit_compile=True,\n",
        "    name='Lion')\n",
        "optimizer4=tf.keras.optimizers.Adam(\n",
        "    learning_rate=0.001,\n",
        "    beta_1=0.9,\n",
        "    beta_2=0.999,\n",
        "    epsilon=1e-07,\n",
        "    amsgrad=False,\n",
        "    weight_decay=None,\n",
        "    clipnorm=None,\n",
        "    clipvalue=None,\n",
        "    global_clipnorm=None,\n",
        "    use_ema=False,\n",
        "    ema_momentum=0.99,\n",
        "    ema_overwrite_frequency=None,\n",
        "    jit_compile=True,\n",
        "    name='Adam')\n",
        "\n",
        "optimizer5=tf.keras.optimizers.SGD(\n",
        "    learning_rate=0.01,\n",
        "    momentum=0.0,\n",
        "    nesterov=False,\n",
        "    weight_decay=None,\n",
        "    clipnorm=None,\n",
        "    clipvalue=None,\n",
        "    global_clipnorm=None,\n",
        "    use_ema=False,\n",
        "    ema_momentum=0.99,\n",
        "    ema_overwrite_frequency=None,\n",
        "    jit_compile=True,\n",
        "    name=\"SGD\")\n",
        "\n",
        "optimizer6=tf.keras.optimizers.Adadelta(\n",
        "    learning_rate=0.001,\n",
        "    rho=0.95,\n",
        "    epsilon=1e-07,\n",
        "    weight_decay=None,\n",
        "    clipnorm=None,\n",
        "    clipvalue=None,\n",
        "    global_clipnorm=None,\n",
        "    use_ema=False,\n",
        "    ema_momentum=0.99,\n",
        "    ema_overwrite_frequency=None,\n",
        "    jit_compile=True,\n",
        "    name=\"Adadelta\")\n",
        "\n",
        "optimizer7=tf.keras.optimizers.Adagrad(\n",
        "    learning_rate=0.001,\n",
        "    initial_accumulator_value=0.1,\n",
        "    epsilon=1e-07,\n",
        "    weight_decay=None,\n",
        "    clipnorm=None,\n",
        "    clipvalue=None,\n",
        "    global_clipnorm=None,\n",
        "    use_ema=False,\n",
        "    ema_momentum=0.99,\n",
        "    ema_overwrite_frequency=None,\n",
        "    jit_compile=True,\n",
        "    name=\"Adagrad\")\n",
        "\n",
        "optimizer8=tf.keras.optimizers.RMSprop(\n",
        "    learning_rate=0.001,\n",
        "    rho=0.9,\n",
        "    momentum=0.0,\n",
        "    epsilon=1e-07,\n",
        "    centered=False,\n",
        "    weight_decay=None,\n",
        "    clipnorm=None,\n",
        "    clipvalue=None,\n",
        "    global_clipnorm=None,\n",
        "    use_ema=False,\n",
        "    ema_momentum=0.99,\n",
        "    ema_overwrite_frequency=100,\n",
        "    jit_compile=True,\n",
        "    name=\"RMSprop\")\n"
      ]
    },
    {
      "cell_type": "code",
      "execution_count": null,
      "metadata": {
        "colab": {
          "base_uri": "https://localhost:8080/"
        },
        "id": "qwhpi04F4v4C",
        "outputId": "01baa89d-6e15-4517-b647-e12f276fc929"
      },
      "outputs": [
        {
          "name": "stdout",
          "output_type": "stream",
          "text": [
            "33/33 [==============================] - 12s 339ms/step\n",
            "33/33 [==============================] - 12s 345ms/step\n",
            "33/33 [==============================] - 12s 334ms/step\n",
            "33/33 [==============================] - 12s 326ms/step\n",
            "33/33 [==============================] - 12s 342ms/step\n",
            "33/33 [==============================] - 12s 331ms/step\n",
            "33/33 [==============================] - 13s 367ms/step\n",
            "33/33 [==============================] - 12s 328ms/step\n"
          ]
        }
      ],
      "source": [
        "base_models = []\n",
        "\n",
        "model_1 = tf.keras.models.clone_model(model)\n",
        "model_1.compile(optimizer=optimizer1, loss='categorical_crossentropy', metrics=METRICS)\n",
        "base_models.append(model_1)\n",
        "\n",
        "model_2 = tf.keras.models.clone_model(model)\n",
        "model_2.compile(optimizer=optimizer2, loss='categorical_crossentropy', metrics=METRICS)\n",
        "base_models.append(model_2)\n",
        "\n",
        "model_3 = tf.keras.models.clone_model(model)\n",
        "model_3.compile(optimizer=optimizer3, loss='categorical_crossentropy', metrics=METRICS)\n",
        "base_models.append(model_3)\n",
        "\n",
        "model_4 = tf.keras.models.clone_model(model)\n",
        "model_4.compile(optimizer=optimizer4, loss='categorical_crossentropy', metrics=METRICS)\n",
        "base_models.append(model_4)\n",
        "\n",
        "model_5 = tf.keras.models.clone_model(model)\n",
        "model_5.compile(optimizer=optimizer5, loss='categorical_crossentropy', metrics=METRICS)\n",
        "base_models.append(model_5)\n",
        "\n",
        "model_6 = tf.keras.models.clone_model(model)\n",
        "model_6.compile(optimizer=optimizer6, loss='categorical_crossentropy', metrics=METRICS)\n",
        "base_models.append(model_6)\n",
        "\n",
        "model_7 = tf.keras.models.clone_model(model)\n",
        "model_7.compile(optimizer=optimizer7, loss='categorical_crossentropy', metrics=METRICS)\n",
        "base_models.append(model_7)\n",
        "\n",
        "model_8 = tf.keras.models.clone_model(model)\n",
        "model_8.compile(optimizer=optimizer8, loss='categorical_crossentropy', metrics=METRICS)\n",
        "base_models.append(model_8)\n",
        "\n",
        "train_predictions = []\n",
        "for model in base_models:\n",
        "    train_pred = model.predict(X_train_tensor)\n",
        "    train_predictions.append(train_pred)\n"
      ]
    },
    {
      "cell_type": "code",
      "execution_count": null,
      "metadata": {
        "id": "casT750TFa1m"
      },
      "outputs": [],
      "source": [
        "stacked_train_predictions = np.hstack(train_predictions)\n",
        "X_train_combined = np.hstack((X_train_bert_embed, stacked_train_predictions))\n",
        "\n"
      ]
    },
    {
      "cell_type": "code",
      "execution_count": null,
      "metadata": {
        "colab": {
          "base_uri": "https://localhost:8080/"
        },
        "id": "aj5j9ifGhyg1",
        "outputId": "d3dc3fc2-6ac9-4d1d-fa7d-3978c533a5ae"
      },
      "outputs": [
        {
          "name": "stdout",
          "output_type": "stream",
          "text": [
            "14/14 [==============================] - 4s 334ms/step\n",
            "14/14 [==============================] - 5s 345ms/step\n",
            "14/14 [==============================] - 4s 317ms/step\n",
            "14/14 [==============================] - 4s 333ms/step\n",
            "14/14 [==============================] - 5s 345ms/step\n",
            "14/14 [==============================] - 4s 321ms/step\n",
            "14/14 [==============================] - 4s 336ms/step\n",
            "14/14 [==============================] - 5s 339ms/step\n"
          ]
        }
      ],
      "source": [
        "test_predictions = []\n",
        "for model in base_models:\n",
        "    test_pred = model.predict(X_test_tensor)\n",
        "    test_predictions.append(test_pred)\n",
        "\n",
        "stacked_test_predictions = np.hstack(test_predictions)\n",
        "X_test_combined = np.hstack((X_test_bert_embed, stacked_test_predictions))"
      ]
    },
    {
      "cell_type": "code",
      "execution_count": null,
      "metadata": {
        "id": "Gq4RnRC_XGVZ"
      },
      "outputs": [],
      "source": [
        "param_grid = {\n",
        "    'n_estimators': [50, 100, 150],\n",
        "    'learning_rate': [0.01, 0.1, 0.2]\n",
        "}"
      ]
    },
    {
      "cell_type": "code",
      "execution_count": null,
      "metadata": {
        "id": "7LrrIgwLXH8q"
      },
      "outputs": [],
      "source": [
        "gb_classifier = GradientBoostingClassifier(random_state=42)\n",
        "\n"
      ]
    },
    {
      "cell_type": "code",
      "execution_count": null,
      "metadata": {
        "id": "aMkDoR0_e5hD"
      },
      "outputs": [],
      "source": [
        "grid_search = GridSearchCV(gb_classifier, param_grid, cv=5, scoring='f1_macro', n_jobs=-1)\n",
        "grid_search.fit(X_train_combined, np.array(y_train_resampled))\n",
        "\n",
        "best_n_estimators = grid_search.best_params_['n_estimators']\n",
        "best_learning_rate = grid_search.best_params_['learning_rate']"
      ]
    },
    {
      "cell_type": "code",
      "execution_count": null,
      "metadata": {
        "id": "BAhWmpt_XUc0"
      },
      "outputs": [],
      "source": [
        "print(\"Best n_estimators:\", best_n_estimators)\n",
        "print(\"Best learning_rate:\", best_learning_rate)"
      ]
    },
    {
      "cell_type": "code",
      "execution_count": null,
      "metadata": {
        "id": "bd48DqRbWPPE"
      },
      "outputs": [],
      "source": [
        "gb_classifier = GradientBoostingClassifier(n_estimators=50,\n",
        "                                           learning_rate=0.2,\n",
        "                                           random_state=42)\n",
        "model = gb_classifier.fit(X_train_combined, y_train_resampled)\n",
        "\n"
      ]
    },
    {
      "cell_type": "code",
      "execution_count": null,
      "metadata": {
        "id": "siofyvC2FieO"
      },
      "outputs": [],
      "source": [
        "predicted_labels = model.predict(X_test_combined)\n",
        "predicted_class_labels = label_encoder.inverse_transform(predicted_labels)\n",
        "\n",
        "\n"
      ]
    },
    {
      "cell_type": "code",
      "execution_count": null,
      "metadata": {
        "colab": {
          "base_uri": "https://localhost:8080/"
        },
        "id": "2HvI8fW9ijEk",
        "outputId": "a8b8bde9-c4af-4fa1-f69b-571aaf693dbb"
      },
      "outputs": [
        {
          "name": "stdout",
          "output_type": "stream",
          "text": [
            "[3 0 2 0 2 1 0 0 1 2 1 2 1 0 0 2 0 0 1 1]\n"
          ]
        }
      ],
      "source": [
        "print(predicted_class_labels[0:20])"
      ]
    },
    {
      "cell_type": "code",
      "execution_count": null,
      "metadata": {
        "colab": {
          "base_uri": "https://localhost:8080/"
        },
        "id": "kpb044EJGTzJ",
        "outputId": "ec9f5edd-b9fe-455e-99c6-118625340313"
      },
      "outputs": [
        {
          "name": "stdout",
          "output_type": "stream",
          "text": [
            "Confusion Matrix:\n",
            "[[39 45 18  5]\n",
            " [38 41 23  5]\n",
            " [11 24 66  6]\n",
            " [ 8  7  7 85]]\n",
            "Classification Report:\n",
            "              precision    recall  f1-score   support\n",
            "\n",
            "           0       0.41      0.36      0.38       107\n",
            "           1       0.35      0.38      0.37       107\n",
            "           2       0.58      0.62      0.60       107\n",
            "           3       0.84      0.79      0.82       107\n",
            "\n",
            "    accuracy                           0.54       428\n",
            "   macro avg       0.54      0.54      0.54       428\n",
            "weighted avg       0.54      0.54      0.54       428\n",
            "\n"
          ]
        }
      ],
      "source": [
        "from sklearn.metrics import confusion_matrix, classification_report\n",
        "\n",
        "test_predictions = gb_classifier.predict(X_test_combined)\n",
        "predicted_class_labels = label_encoder.inverse_transform(test_predictions)\n",
        "true_class_labels = label_encoder.inverse_transform(y_test_resampled)\n",
        "\n",
        "conf_matrix = confusion_matrix(true_class_labels, predicted_class_labels)\n",
        "print(\"Confusion Matrix:\")\n",
        "print(conf_matrix)\n",
        "\n",
        "class_report = classification_report(true_class_labels, predicted_class_labels)\n",
        "print(\"Classification Report:\")\n",
        "print(class_report)\n"
      ]
    },
    {
      "cell_type": "code",
      "execution_count": null,
      "metadata": {
        "id": "NiUtwVZgIswD"
      },
      "outputs": [],
      "source": [
        "accuracy = accuracy_score(true_class_labels, predicted_class_labels)\n",
        "precision = precision_score(true_class_labels, predicted_class_labels, average='macro')\n",
        "recall = recall_score(true_class_labels, predicted_class_labels, average='macro')\n",
        "f1 = f1_score(true_class_labels, predicted_class_labels, average='macro')\n",
        "print(\"Accuracy:\", accuracy)\n",
        "print(\"Precision:\", precision)\n",
        "print(\"Recall:\", recall)\n",
        "print(\"F1-score:\", f1)"
      ]
    },
    {
      "cell_type": "code",
      "execution_count": null,
      "metadata": {
        "id": "7gnH4m4U4zuD"
      },
      "outputs": [],
      "source": [
        "##################################################################\n",
        "\n"
      ]
    },
    {
      "cell_type": "code",
      "execution_count": null,
      "metadata": {
        "id": "yDmRwUIkM5r_"
      },
      "outputs": [],
      "source": [
        "model.save(\"NLP_TEXT_CLASSIFICATION_saved_model.h5\")\n"
      ]
    },
    {
      "cell_type": "code",
      "execution_count": null,
      "metadata": {
        "id": "JcuvgMKXeqk8"
      },
      "outputs": [],
      "source": []
    },
    {
      "cell_type": "code",
      "execution_count": null,
      "metadata": {
        "id": "wCVxS_d7WaP6"
      },
      "outputs": [],
      "source": []
    },
    {
      "cell_type": "code",
      "execution_count": null,
      "metadata": {
        "id": "D6n_RFK4dao6"
      },
      "outputs": [],
      "source": []
    },
    {
      "cell_type": "code",
      "execution_count": null,
      "metadata": {
        "id": "q6jdnLxXdcx_"
      },
      "outputs": [],
      "source": []
    },
    {
      "cell_type": "code",
      "execution_count": null,
      "metadata": {
        "id": "smyUOjFWoPLY"
      },
      "outputs": [],
      "source": []
    },
    {
      "cell_type": "code",
      "execution_count": null,
      "metadata": {
        "id": "rHKPARkhuXnz"
      },
      "outputs": [],
      "source": []
    },
    {
      "cell_type": "code",
      "execution_count": null,
      "metadata": {
        "id": "Gk7y0osvy5Wm"
      },
      "outputs": [],
      "source": []
    },
    {
      "cell_type": "code",
      "execution_count": null,
      "metadata": {
        "id": "wDfiaUyzz6Gx"
      },
      "outputs": [],
      "source": [
        "model = tf.keras.models.load_model(\"LLP_saved_model\")\n",
        "def check(line):\n",
        "    prediction = model.predict(line)\n",
        "    predicted_labels = np.argmax(prediction, axis=1)\n",
        "    predicted_class_labels = label_encoder.inverse_transform(predicted_labels)\n",
        "\n",
        "    dic = {0: 'ANALYSIS', 1: 'ARG_PETITIONER', 2: 'ARG_RESPONDENT', 3: 'FAC', 4: 'ISSUE', 5: 'NONE', 6: 'PREAMBLE', 7: 'PRE_NOT_RELIED', 8: 'PRE_RELIED', 9: 'RATIO', 10: 'RLC', 11: 'RPC', 12: 'STA'}\n",
        "\n",
        "    for label in predicted_class_labels:\n",
        "        if label in dic:\n",
        "            print(dic[label])\n",
        "#Put your statement here:\n",
        "line = ['3. The court below answered the above points in the affirmative and accordingly had convicted the accused to undergo simple imprisonment for three years and pay a fine of Rs.5,000/- for the offence punishable under section 498-A IPC and 10 years simple imprisonment and to pay fine of Rs.10,000/- for the offence punishable under Section 306 of the IPC.']\n",
        "check(line)\n"
      ]
    },
    {
      "cell_type": "code",
      "execution_count": null,
      "metadata": {
        "id": "I_sUgRLg1nRk"
      },
      "outputs": [],
      "source": []
    },
    {
      "cell_type": "code",
      "execution_count": null,
      "metadata": {
        "id": "b7MXPbYTI204"
      },
      "outputs": [],
      "source": []
    }
  ],
  "metadata": {
    "accelerator": "GPU",
    "colab": {
      "gpuType": "T4",
      "provenance": []
    },
    "kernelspec": {
      "display_name": "Python 3",
      "name": "python3"
    },
    "language_info": {
      "codemirror_mode": {
        "name": "ipython",
        "version": 3
      },
      "file_extension": ".py",
      "mimetype": "text/x-python",
      "name": "python",
      "nbconvert_exporter": "python",
      "pygments_lexer": "ipython3",
      "version": "3.9.12"
    }
  },
  "nbformat": 4,
  "nbformat_minor": 0
}
